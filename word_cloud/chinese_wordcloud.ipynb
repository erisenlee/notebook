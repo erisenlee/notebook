{
 "cells": [
  {
   "cell_type": "code",
   "execution_count": 2,
   "metadata": {},
   "outputs": [],
   "source": [
    "import jieba\n",
    "from os import path\n",
    "import os"
   ]
  },
  {
   "cell_type": "code",
   "execution_count": 3,
   "metadata": {},
   "outputs": [],
   "source": [
    "d = path.dirname(__file__) if \"__file__\" in locals() else os.getcwd()"
   ]
  },
  {
   "cell_type": "code",
   "execution_count": 51,
   "metadata": {},
   "outputs": [],
   "source": [
    "font_path = path.join(d, 'STCAIYUN.ttf')"
   ]
  },
  {
   "cell_type": "code",
   "execution_count": 52,
   "metadata": {},
   "outputs": [],
   "source": [
    "text_file = path.join(d, 'translate.txt')"
   ]
  },
  {
   "cell_type": "code",
   "execution_count": 36,
   "metadata": {},
   "outputs": [],
   "source": [
    "stop_words_path = path.join(d , 'stop_words.txt')"
   ]
  },
  {
   "cell_type": "code",
   "execution_count": 39,
   "metadata": {},
   "outputs": [],
   "source": [
    "def jieba_text_processing(text,stop_words_path):\n",
    "    seg_list = jieba.cut(text,cut_all=False)\n",
    "    liststr = '/'.join(seg_list)\n",
    "    myword =[c.strip() for c in liststr.split('/')]\n",
    "    \n",
    "    result = []\n",
    "    with open(stop_words_path,encoding='utf-8') as f:\n",
    "        stop_words = f.read()\n",
    "        stop_words_list = stop_words.splitlines()\n",
    "    for word in myword:\n",
    "        if (word not in stop_words_list) and len(word)>=1:\n",
    "            result.append(word)\n",
    "    return ' '.join(result)    "
   ]
  },
  {
   "cell_type": "code",
   "execution_count": 40,
   "metadata": {},
   "outputs": [],
   "source": [
    "text = open(text_file,encoding='utf-8').read()"
   ]
  },
  {
   "cell_type": "code",
   "execution_count": 46,
   "metadata": {},
   "outputs": [],
   "source": [
    "myword = jieba_text_processing(text,stop_words_path)"
   ]
  },
  {
   "cell_type": "code",
   "execution_count": 47,
   "metadata": {},
   "outputs": [],
   "source": [
    "from wordcloud import WordCloud"
   ]
  },
  {
   "cell_type": "code",
   "execution_count": 53,
   "metadata": {},
   "outputs": [],
   "source": [
    "wc = WordCloud(font_path=font_path,background_color='white')"
   ]
  },
  {
   "cell_type": "code",
   "execution_count": 54,
   "metadata": {},
   "outputs": [
    {
     "data": {
      "text/plain": [
       "<wordcloud.wordcloud.WordCloud at 0x11dfca20>"
      ]
     },
     "execution_count": 54,
     "metadata": {},
     "output_type": "execute_result"
    }
   ],
   "source": [
    "wc.generate_from_text(myword)"
   ]
  },
  {
   "cell_type": "code",
   "execution_count": 55,
   "metadata": {},
   "outputs": [
    {
     "data": {
      "text/plain": [
       "<wordcloud.wordcloud.WordCloud at 0x11dfca20>"
      ]
     },
     "execution_count": 55,
     "metadata": {},
     "output_type": "execute_result"
    }
   ],
   "source": [
    "wc.to_file(path.join(d,'translate.png'))"
   ]
  },
  {
   "cell_type": "code",
   "execution_count": 35,
   "metadata": {
    "collapsed": true
   },
   "outputs": [
    {
     "data": {
      "text/plain": [
       "'合众国 参议院 由 各州 的 两名 参议员 组成 ， 由州 议会选举 产生 ， 任期 六年 ; 每位 参议员 应有 一票 表决权 。 在 第一次 选举 后 ， 他们 应立即 集合起来 ， 并 应 尽可能 平均 地 分成 三类 。 参议员 的 席位 第一节 课应 空出 的 第二年 , 期满 二等 的 第四年 , 期满 和 第三类 在 第六年 期满 , 这 三分之一 可能 选择 每隔 一年 ; 在 任何 州 的 立法机关 休会期间 ， 如 因 辞职 或 其他 原因 出现 空缺 ， 其 行政 机关 可 在 立法机关 下次 会议 前 作出 临时 任命 ， 由 立法机关 下次 会议 补足 空缺 。 任何 参议员 不得 未满 三十岁 ， 并未 满 九岁 ， 即 为 合众国 公民 ， 在 当选 时 不得 居住 于 所 选之州 。 美国 副 总统 应 担任 参议院 议长 ， 但 不得 有 投票权 ， 除非 他们 平分秋色 。 参议院 在 副 总统 不 在 时 ， 或 在 副 总统 行使 合众国 总统 职务 时 ， 应 选举 其他 官员 和 临时 总统 。 参议院 有权 审理 所有 弹劾案 。 在 为 这 一 目的 而 坐时 ， 他们 应 宣誓 或 肯定 。 合众国 总统 受审 时 ， 首席法官 应 主持 审判 ， 未经 出席 的 议员 三分之二 的 同意 ， 任何人 不得 被 定罪 。 弹劾案 之 判决 ， 不得 延伸 至 免职 ， 并 取消 其 在 合众国 境内 担任 或 享有 任何 荣誉 、 信任 或 利益 之 职务 之 资格 ; 但 被 定罪 者 仍须 依法 承担 起诉 、 审判 、 判决 及 惩处 之 责任 。 每一院 应 作为 其 成员 的 选举 、 回报 和 资格 的 法官 ， 每一院 的 多数 应 构成 处理事务 的 法定人数 ; 但 也 有 少数 议员 可 逐日 休庭 ， 并 可 获 授权 以 每 一院 可能 规定 的 方式 ， 以 惩罚 的 方式 强迫 缺席 议员 出席 。 每一院 可 决定 其 议事规则 ， 对 其 成员 的 妨害 行为 予以 惩罚 ， 并 在 三分之二 的 同意 下 开除 一名 成员 。 各院 应 保存 其 议事 记录 ， 并 不时 公布 其 议事 记录 ， 但 其 认为 需要 保密 的 部分 除外 ; 两院 议员 对 任何 问题 的 赞成 和 反对 ， 应 出席会议 的 议员 中 五分之一 的 人 的 要求 ， 记入 会议记录 。 在 国会 开会 期间 ， 未经 另 一 议院 同意 ， 任何 议院 不得 休会 三日 以上 ， 也 不得 休会 至 两院 开会 期间 以外 的 其他 地方 。'"
      ]
     },
     "execution_count": 35,
     "metadata": {},
     "output_type": "execute_result"
    }
   ],
   "source": [
    "myword"
   ]
  },
  {
   "cell_type": "code",
   "execution_count": null,
   "metadata": {},
   "outputs": [],
   "source": []
  }
 ],
 "metadata": {
  "kernelspec": {
   "display_name": "Python 3",
   "language": "python",
   "name": "python3"
  },
  "language_info": {
   "codemirror_mode": {
    "name": "ipython",
    "version": 3
   },
   "file_extension": ".py",
   "mimetype": "text/x-python",
   "name": "python",
   "nbconvert_exporter": "python",
   "pygments_lexer": "ipython3",
   "version": "3.7.0"
  }
 },
 "nbformat": 4,
 "nbformat_minor": 2
}
