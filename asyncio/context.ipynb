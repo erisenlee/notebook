{
 "cells": [
  {
   "cell_type": "code",
   "execution_count": 4,
   "metadata": {},
   "outputs": [],
   "source": [
    "from contextvars import copy_context,Context,ContextVar"
   ]
  },
  {
   "cell_type": "code",
   "execution_count": 12,
   "metadata": {},
   "outputs": [
    {
     "name": "stdout",
     "output_type": "stream",
     "text": [
      "<ContextVar name='message' at 0x0000000004B94830> : finished\n",
      "<ContextVar name='decimal_context' at 0x0000000003F34468> : Context(prec=28, rounding=ROUND_HALF_EVEN, Emin=-999999, Emax=999999, capitals=1, clamp=0, flags=[], traps=[InvalidOperation, DivisionByZero, Overflow])\n",
      "<ContextVar name='user' at 0x0000000004B945C8> : Alsi\n"
     ]
    }
   ],
   "source": [
    "var1 = ContextVar('user')\n",
    "var1.set('Alsi')\n",
    "var2 = ContextVar('message')\n",
    "var2.set('finished')\n",
    "ctx: Context = copy_context()\n",
    "var1 in ctx\n",
    "for key, value in ctx.items():\n",
    "    print(f'{key} : {value}')"
   ]
  },
  {
   "cell_type": "code",
   "execution_count": 14,
   "metadata": {},
   "outputs": [
    {
     "data": {
      "text/plain": [
       "'spam'"
      ]
     },
     "execution_count": 14,
     "metadata": {},
     "output_type": "execute_result"
    }
   ],
   "source": [
    "var = ContextVar('var')\n",
    "var.set('spam')\n",
    "\n",
    "def main():\n",
    "    # 'var' was set to 'spam' before\n",
    "    # calling 'copy_context()' and 'ctx.run(main)', so:\n",
    "    # var.get() == ctx[var] == 'spam'\n",
    "\n",
    "    var.set('ham')\n",
    "\n",
    "    # Now, after setting 'var' to 'ham':\n",
    "    # var.get() == ctx[var] == 'ham'\n",
    "\n",
    "ctx = copy_context()\n",
    "\n",
    "# Any changes that the 'main' function makes to 'var'\n",
    "# will be contained in 'ctx'.\n",
    "ctx.run(main)\n",
    "\n",
    "# The 'main()' function was run in the 'ctx' context,\n",
    "# so changes to 'var' are contained in it:\n",
    "# ctx[var] == 'ham'\n",
    "\n",
    "# However, outside of 'ctx', 'var' is still set to 'spam':\n",
    "var.get()"
   ]
  },
  {
   "cell_type": "code",
   "execution_count": null,
   "metadata": {},
   "outputs": [],
   "source": []
  }
 ],
 "metadata": {
  "kernelspec": {
   "display_name": "Python 3",
   "language": "python",
   "name": "python3"
  },
  "language_info": {
   "codemirror_mode": {
    "name": "ipython",
    "version": 3
   },
   "file_extension": ".py",
   "mimetype": "text/x-python",
   "name": "python",
   "nbconvert_exporter": "python",
   "pygments_lexer": "ipython3",
   "version": "3.7.0"
  }
 },
 "nbformat": 4,
 "nbformat_minor": 2
}
