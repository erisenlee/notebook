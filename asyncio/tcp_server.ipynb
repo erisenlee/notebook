{
 "cells": [
  {
   "cell_type": "code",
   "execution_count": 1,
   "metadata": {},
   "outputs": [],
   "source": [
    "from socketserver import StreamRequestHandler,TCPServer\n",
    "import time"
   ]
  },
  {
   "cell_type": "code",
   "execution_count": 2,
   "metadata": {},
   "outputs": [],
   "source": [
    "#request handler\n",
    "class TimeServerHandler(StreamRequestHandler):\n",
    "    def handle(self):\n",
    "        print(f'watting for connection...')\n",
    "        self.receive = self.rfile.read().strip()\n",
    "        print('connection from {}'.format(self.client_address[0]))\n",
    "        print('received data: {}'.format(self.receive))\n",
    "        t = time.ctime(time.time())\n",
    "        self.wfile.write('echo time : {}'.format(t))"
   ]
  },
  {
   "cell_type": "code",
   "execution_count": null,
   "metadata": {},
   "outputs": [
    {
     "name": "stdout",
     "output_type": "stream",
     "text": [
      "watting for connection...\n"
     ]
    }
   ],
   "source": [
    "with TCPServer(('localhost',6666),TimeServerHandler) as server:\n",
    "    server.serve_forever()"
   ]
  },
  {
   "cell_type": "code",
   "execution_count": null,
   "metadata": {},
   "outputs": [],
   "source": []
  },
  {
   "cell_type": "code",
   "execution_count": null,
   "metadata": {},
   "outputs": [],
   "source": []
  }
 ],
 "metadata": {
  "kernelspec": {
   "display_name": "Python 3",
   "language": "python",
   "name": "python3"
  },
  "language_info": {
   "codemirror_mode": {
    "name": "ipython",
    "version": 3
   },
   "file_extension": ".py",
   "mimetype": "text/x-python",
   "name": "python",
   "nbconvert_exporter": "python",
   "pygments_lexer": "ipython3",
   "version": "3.7.0"
  }
 },
 "nbformat": 4,
 "nbformat_minor": 2
}
