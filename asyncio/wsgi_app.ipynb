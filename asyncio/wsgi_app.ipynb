{
 "cells": [
  {
   "cell_type": "code",
   "execution_count": 1,
   "metadata": {},
   "outputs": [],
   "source": [
    "import json"
   ]
  },
  {
   "cell_type": "code",
   "execution_count": 2,
   "metadata": {},
   "outputs": [],
   "source": [
    "def app(environ, start_response):\n",
    "    status_code = '200 OK'\n",
    "    header = [('Content-Type','application/json;charset=UTF-8')]\n",
    "    start_response(status_code,header)\n",
    "\n",
    "    body = json.dumps({'environ':environ['REQUEST_METHOD']})\n",
    "    return [body.encode('utf-8')]"
   ]
  },
  {
   "cell_type": "code",
   "execution_count": null,
   "metadata": {},
   "outputs": [
    {
     "name": "stdout",
     "output_type": "stream",
     "text": [
      "Serving HTTP on port 8000...\n"
     ]
    },
    {
     "name": "stderr",
     "output_type": "stream",
     "text": [
      "127.0.0.1 - - [14/Nov/2018 17:25:35] \"GET /path HTTP/1.1\" 200 18\n",
      "127.0.0.1 - - [14/Nov/2018 17:25:35] \"GET /favicon.ico HTTP/1.1\" 200 18\n"
     ]
    }
   ],
   "source": [
    "from wsgiref.simple_server import make_server, demo_app\n",
    "\n",
    "with make_server('', 8000, app) as httpd:\n",
    "    print(\"Serving HTTP on port 8000...\")\n",
    "\n",
    "    # Respond to requests until process is killed\n",
    "    httpd.serve_forever()\n",
    "\n",
    "    # Alternative: serve one request, then exit\n",
    "    httpd.handle_request()"
   ]
  },
  {
   "cell_type": "code",
   "execution_count": null,
   "metadata": {},
   "outputs": [],
   "source": []
  },
  {
   "cell_type": "code",
   "execution_count": null,
   "metadata": {},
   "outputs": [],
   "source": []
  }
 ],
 "metadata": {
  "kernelspec": {
   "display_name": "Python 3",
   "language": "python",
   "name": "python3"
  },
  "language_info": {
   "codemirror_mode": {
    "name": "ipython",
    "version": 3
   },
   "file_extension": ".py",
   "mimetype": "text/x-python",
   "name": "python",
   "nbconvert_exporter": "python",
   "pygments_lexer": "ipython3",
   "version": "3.7.0"
  }
 },
 "nbformat": 4,
 "nbformat_minor": 2
}
