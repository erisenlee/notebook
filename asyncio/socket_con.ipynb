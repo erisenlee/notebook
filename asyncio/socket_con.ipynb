{
 "cells": [
  {
   "cell_type": "code",
   "execution_count": 1,
   "metadata": {},
   "outputs": [],
   "source": [
    "from socket import *\n",
    "import time"
   ]
  },
  {
   "cell_type": "code",
   "execution_count": null,
   "metadata": {},
   "outputs": [],
   "source": [
    "def TcpServer():\n",
    "    s = socket(AF_INET,SOCK_STREAM)\n",
    "    s.bind(('',5000))\n",
    "    s.listen(5)\n",
    "    while True:\n",
    "        print(f'waitting for connecting...')\n",
    "        client,addr = s.accept()\n",
    "        print(f'connction from {str(addr)}')\n",
    "        t = time.ctime(time.time())\n",
    "        client.send(t.encode('ascii'))\n",
    "        client.close()\n",
    "        "
   ]
  },
  {
   "cell_type": "code",
   "execution_count": null,
   "metadata": {},
   "outputs": [],
   "source": [
    "def Client():\n",
    "    s = socket(AF_INET,SOCK_STREAM)\n",
    "    s.connect(('localhost',5000))\n",
    "    t = s.recv(1024)\n",
    "    s.close()\n",
    "    tr = t.decode('ascii')\n",
    "    print(f'{tr}')"
   ]
  },
  {
   "cell_type": "code",
   "execution_count": null,
   "metadata": {},
   "outputs": [
    {
     "name": "stdout",
     "output_type": "stream",
     "text": [
      "waitting for connecting...\n"
     ]
    }
   ],
   "source": [
    "TcpServer()"
   ]
  },
  {
   "cell_type": "code",
   "execution_count": null,
   "metadata": {},
   "outputs": [],
   "source": [
    "Client()"
   ]
  },
  {
   "cell_type": "code",
   "execution_count": null,
   "metadata": {},
   "outputs": [],
   "source": []
  },
  {
   "cell_type": "code",
   "execution_count": null,
   "metadata": {},
   "outputs": [],
   "source": []
  }
 ],
 "metadata": {
  "kernelspec": {
   "display_name": "Python 3",
   "language": "python",
   "name": "python3"
  },
  "language_info": {
   "codemirror_mode": {
    "name": "ipython",
    "version": 3
   },
   "file_extension": ".py",
   "mimetype": "text/x-python",
   "name": "python",
   "nbconvert_exporter": "python",
   "pygments_lexer": "ipython3",
   "version": "3.7.0"
  }
 },
 "nbformat": 4,
 "nbformat_minor": 2
}
